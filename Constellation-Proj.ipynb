{
 "cells": [
  {
   "cell_type": "code",
   "execution_count": 8,
   "id": "983345f0",
   "metadata": {},
   "outputs": [
    {
     "name": "stdout",
     "output_type": "stream",
     "text": [
      "(133, 3, 75, 75) (133,) (57, 3, 75, 75) (57,)\n"
     ]
    }
   ],
   "source": [
    "import os.path\n",
    "import PIL\n",
    "import os\n",
    "import numpy as np\n",
    "from PIL import Image\n",
    "from numpy import asarray\n",
    "\n",
    "constellations = []\n",
    "PATH_train = r'C:\\Users\\leleg\\Constellation\\Train'\n",
    "PATH_test  = r'C:\\Users\\leleg\\Constellation\\Test'\n",
    "address_train = []\n",
    "address_test = []\n",
    "for path,directory,file in os.walk(r'C:\\Users\\leleg\\Constellation\\Train'):\n",
    "    if(path == PATH_train):\n",
    "        constellations = directory\n",
    "    else :\n",
    "        address_train.append(path)\n",
    "for path,directory,file in os.walk(r'C:\\Users\\leleg\\Constellation\\Test'):\n",
    "    if(path!=PATH_test):\n",
    "        address_test.append(path)\n",
    "DATA_train = []\n",
    "for i in range(len(constellations)):\n",
    "    for path,directory,file in os.walk(address_train[i]):\n",
    "               for f in file:\n",
    "                   some = os.path.join(path, f)\n",
    "                   DATA_train.append((some,i))\n",
    "                \n",
    "DATA_test = []\n",
    "for i in range(len(constellations)):\n",
    "    for path,directory,file in os.walk(address_test[i]):\n",
    "               for f in file:\n",
    "                   some = os.path.join(path, f)\n",
    "                   DATA_test.append((some,i))\n",
    "\n",
    "X_train =[]\n",
    "y_train = []\n",
    "for t in DATA_train:\n",
    "    img = Image.open(t[0])\n",
    "    img = asarray(img)\n",
    "    img = np.transpose(img,(2,1,0))\n",
    "    X_train.append(img)\n",
    "    y_train.append(t[1])\n",
    "X_test =[]\n",
    "y_test = []\n",
    "for t in DATA_test:\n",
    "    img = Image.open(t[0])\n",
    "    img = asarray(img)\n",
    "    img = np.transpose(img,(2,1,0))\n",
    "    X_test.append(img)\n",
    "    y_test.append(t[1])\n",
    "X_train = np.array(X_train)\n",
    "y_train = np.array(y_train)\n",
    "X_test  = np.array(X_test)\n",
    "y_test  = np.array(y_test)\n",
    "print(X_train.shape , y_train.shape , X_test.shape, y_test.shape)\n",
    "    \n",
    "\n"
   ]
  },
  {
   "cell_type": "code",
   "execution_count": 11,
   "id": "65c37c33",
   "metadata": {},
   "outputs": [],
   "source": [
    "from sklearn.preprocessing import MinMaxScaler\n",
    "import numpy as np\n",
    "from collections import Counter\n",
    "class somecoolname:\n",
    "    def __init__(self,X,Y,k):\n",
    "        self.X1 = X\n",
    "        self.Y = Y\n",
    "        self.k = k\n",
    "        print(self.X1.shape)\n",
    "        area = self.X1.shape[2]*self.X1.shape[3]*self.X1.shape[1]\n",
    "        length = self.Y.shape[0]\n",
    "        self.X = np.zeros((length,area))\n",
    "        for i in range(length):\n",
    "            self.X[i] = self.X1[i].flatten()\n",
    "    \n",
    "        self.X = self.prepro(self.X)\n",
    " \n",
    "        \n",
    "    def prepro(self,X):\n",
    "        scaler = MinMaxScaler()\n",
    "        self.scaler = scaler\n",
    "        return scaler.fit_transform(X)\n",
    "    def rotate(self,X):\n",
    "        return np.rot90(X,k = 1 , axes =(1,2))\n",
    "    def predict(self,test_im):\n",
    "        distances = []\n",
    "        for i in range(self.Y.shape[0]):\n",
    "            norm = 1e10\n",
    "            for j in range(4):\n",
    "                test_vector = test_im.flatten()\n",
    "                test_vector = np.reshape(test_vector ,(1,test_vector.shape[0]))\n",
    "                test_vector = self.scaler.transform(test_vector)\n",
    "                curr = np.linalg.norm(test_vector - self.X[i])\n",
    "                norm = min(norm,curr)\n",
    "                test_im = self.rotate(test_im)\n",
    "            distances.append(norm)\n",
    "        distances = np.array(distances)\n",
    "        indexes = np.argsort(distances)[:self.k]\n",
    "        \n",
    "        label = []\n",
    "        for i in range(self.k):\n",
    "            label.append(self.Y[indexes[i]])\n",
    "        \n",
    "        label = (np.array(label))\n",
    "        return np.bincount(label).argmax()\n",
    "    def checkacc(self,x_test_l,y_test_l=None):\n",
    "        if y_test_l is not None:\n",
    "            predictions = []\n",
    "            for i in range(y_test_l.shape[0]):\n",
    "                y_test = y_test_l[i]\n",
    "                y_pred = self.predict(x_test_l[i])\n",
    "                predictions.append(y_pred)\n",
    "            predictions = np.array(predictions)\n",
    "            #predictions = predictions.reshape((y_test_l.shape[0],1))\n",
    "            accuracy = np.mean(predictions == y_test_l)*100\n",
    "            print(accuracy)\n",
    "            return predictions\n",
    "        else :\n",
    "            predictions = []\n",
    "            for i in range(x_test_l.shape[0]):\n",
    "                y_pred = self.predict(x_test_l[i])\n",
    "                predictions.append(y_pred)\n",
    "            predictions = np.array(predictions)\n",
    "            predictions = predictions.reshape((x_test_l.shape[0],1)).T\n",
    "            return predictions\n",
    "        \n",
    "    "
   ]
  },
  {
   "cell_type": "code",
   "execution_count": 12,
   "id": "afc5a101",
   "metadata": {},
   "outputs": [
    {
     "name": "stdout",
     "output_type": "stream",
     "text": [
      "(133, 3, 75, 75)\n"
     ]
    }
   ],
   "source": [
    "obj = somecoolname(X_train,y_train,1)"
   ]
  },
  {
   "cell_type": "code",
   "execution_count": 13,
   "id": "fd8b610d",
   "metadata": {},
   "outputs": [
    {
     "name": "stdout",
     "output_type": "stream",
     "text": [
      "61.40350877192983\n"
     ]
    }
   ],
   "source": [
    "predictions = obj.checkacc(X_test,y_test)"
   ]
  },
  {
   "cell_type": "code",
   "execution_count": 14,
   "id": "28f2d0ba",
   "metadata": {},
   "outputs": [
    {
     "name": "stdout",
     "output_type": "stream",
     "text": [
      "[ 9  5  0  1  1  1  2  2  2  3  3 10  4  3  4  5  5  5 11 16  5  3 11  7\n",
      "  7  5 10 16  9  3 10 10  9  3 11 11 12 12 12 13 13 13 14 14 14 15  3 15\n",
      " 10 10 16 11 10  3 18 18 18]\n"
     ]
    }
   ],
   "source": [
    "print(predictions)"
   ]
  },
  {
   "cell_type": "markdown",
   "id": "8688f443",
   "metadata": {},
   "source": [
    "The predictions that we get are the numbers according to which we had encoded our constellation names initially. The numbering has been done lexicographically. We get an accuracy of 61.40% or 35/57 examples have been classified correctly based on their nearest neighbour. Since the test set consists of 3 images of each constellation, which we have used in the same order without shuffling , the predictions give us the labels predicted by the model.\n",
    "\n"
   ]
  }
 ],
 "metadata": {
  "kernelspec": {
   "display_name": "Python 3 (ipykernel)",
   "language": "python",
   "name": "python3"
  },
  "language_info": {
   "codemirror_mode": {
    "name": "ipython",
    "version": 3
   },
   "file_extension": ".py",
   "mimetype": "text/x-python",
   "name": "python",
   "nbconvert_exporter": "python",
   "pygments_lexer": "ipython3",
   "version": "3.7.11"
  }
 },
 "nbformat": 4,
 "nbformat_minor": 5
}
